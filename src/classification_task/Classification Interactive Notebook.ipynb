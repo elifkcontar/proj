{
 "cells": [
  {
   "cell_type": "code",
   "execution_count": 1,
   "metadata": {},
   "outputs": [
    {
     "name": "stderr",
     "output_type": "stream",
     "text": [
      "Using TensorFlow backend.\n"
     ]
    }
   ],
   "source": [
    "import sys\n",
    "sys.path.append('../../')\n",
    "import config as cf\n",
    "\n",
    "import tensorflow as tf\n",
    "import keras.backend.tensorflow_backend\n",
    "import os\n",
    "os.environ[\"CUDA_VISIBLE_DEVICES\"]=\"0\"\n",
    "gpu_options = tf.GPUOptions(per_process_gpu_memory_fraction=0.65)\n",
    "session = tf.Session(config=tf.ConfigProto(gpu_options=gpu_options))\n",
    "keras.backend.tensorflow_backend.set_session(session)\n",
    "\n",
    "from keras.layers import Input, Dense\n",
    "from keras.models import Model\n",
    "from data import main, generate_data\n",
    "from keras.callbacks import ModelCheckpoint, EarlyStopping, ReduceLROnPlateau, TensorBoard\n",
    "from keras.models import model_from_json\n",
    "from keras.preprocessing import image\n",
    "from keras.preprocessing.image import ImageDataGenerator\n",
    "\n",
    "import matplotlib.pyplot as plt\n",
    "import pandas as pd\n",
    "import numpy as np\n",
    "\n",
    "from sklearn import preprocessing\n",
    "from sklearn.metrics import roc_curve, auc, confusion_matrix\n",
    "import itertools\n",
    "\n",
    "import random"
   ]
  },
  {
   "cell_type": "code",
   "execution_count": 2,
   "metadata": {},
   "outputs": [],
   "source": [
    "df_1=pd.read_excel(cf.DATA_CONFIG['data_folder'] + 'group/group01.xlsx')\n",
    "df_2=pd.read_excel(cf.DATA_CONFIG['data_folder'] + 'group/group02.xlsx')\n",
    "df_3=pd.read_excel(cf.DATA_CONFIG['data_folder'] + 'group/group03.xlsx')\n",
    "df_4=pd.read_excel(cf.DATA_CONFIG['data_folder'] + 'group/group04.xlsx')\n",
    "df_5=pd.read_excel(cf.DATA_CONFIG['data_folder'] + 'group/group05.xlsx')\n",
    "df_6=pd.read_excel(cf.DATA_CONFIG['data_folder'] + 'group/group06.xlsx')\n",
    "df_7=pd.read_excel(cf.DATA_CONFIG['data_folder'] + 'group/group07.xlsx')\n",
    "df_3=df_3.reset_index()\n",
    "#df_5=df_5.dropna()\n",
    "#df_5=df_5.reset_index()\n",
    "df_7=df_7.dropna()\n",
    "df_7=df_7.reset_index()"
   ]
  },
  {
   "cell_type": "code",
   "execution_count": 3,
   "metadata": {},
   "outputs": [
    {
     "name": "stderr",
     "output_type": "stream",
     "text": [
      "/home/reuben/anaconda3/lib/python3.6/site-packages/sklearn/utils/validation.py:475: DataConversionWarning: Data with input dtype int64 was converted to float64 by the scale function.\n",
      "  warnings.warn(msg, DataConversionWarning)\n"
     ]
    }
   ],
   "source": [
    "a_1 = (preprocessing.scale(df_1['Asymmetry_1_1']) + preprocessing.scale(df_1['Asymmetry_1_2']) + preprocessing.scale(df_1['Asymmetry_1_3']))/3.0\n",
    "a_2 = (preprocessing.scale(df_2['Asymmetrie']) + preprocessing.scale(df_2['Unnamed: 3']) + preprocessing.scale(df_2['Unnamed: 4']))/3.0\n",
    "a_3 = (preprocessing.scale(df_3['Asymmetry_3_1']) + preprocessing.scale(df_3['Asymmetry_3_2']) + preprocessing.scale(df_3['Asymmetry_3_3']))/3.0\n",
    "a_4 = (preprocessing.scale(df_4['Asymmetry_4_1']) + preprocessing.scale(df_4['Asymmetry_4_3']) + preprocessing.scale(df_4['Asymmetry_4_5']))/3.0\n",
    "a_5 = (preprocessing.scale(df_5['Asymmetry_5_1']) + preprocessing.scale(df_5['Asymmetry_5_2']) + preprocessing.scale(df_5['Asymmetry_5_3']))/3.0\n",
    "a_6 = (preprocessing.scale(df_6['Asymmetry_6_1']) + preprocessing.scale(df_6['Asymmetry_6_2'])+ preprocessing.scale(df_6['Asymmetry_6_3']))/3.0\n",
    "a_7 = (preprocessing.scale(df_7['Asymmetry_7_1']) + preprocessing.scale(df_7['Asymmetry_7_2']) + preprocessing.scale(df_7['Asymmetry_7_3']) + preprocessing.scale(df_7['Asymmetry_7_4']) + preprocessing.scale(df_7['Asymmetry_7_5']) + preprocessing.scale(df_7['Asymmetry_7_6']))/6.0"
   ]
  },
  {
   "cell_type": "code",
   "execution_count": 4,
   "metadata": {},
   "outputs": [],
   "source": [
    "#Image filename list and label for asymmetry\n",
    "asymm_label=np.concatenate((a_1, a_2, a_3, a_4,a_5, a_6, a_7))\n",
    "asymm_id=np.concatenate((df_1['ID'],df_2['Afbeelding'],df_3['index'],df_4['ID'],df_5['ID'], df_6['ID'],df_7['ID'])) \n",
    "#Image filename list and label for class\n",
    "df=pd.read_csv(cf.DATA_CONFIG['data_folder'] + 'csv/ISIC-2017_Training_Part3_GroundTruth.csv')\n",
    "class_label=df['melanoma']\n",
    "class_id=df['image_id']\n",
    "\n"
   ]
  },
  {
   "cell_type": "code",
   "execution_count": 5,
   "metadata": {},
   "outputs": [],
   "source": [
    "\n",
    "class_id_=[]\n",
    "class_label_=[]\n",
    "\n",
    "#Shuffle dataset\n",
    "indexes=list(range(len(class_id)))\n",
    "random.Random(4).shuffle(indexes)\t#To produce same train and valid set every time. Instead of Random(4) DO NOT use seed=4, because it will pollute randomness of the rest of the program.\n",
    "for index in indexes:\n",
    "    class_id_.append(class_id[index])\n",
    "    class_label_.append(class_label[index])\n",
    "\n",
    "train_id=class_id_[:-600]\t#1400 training\n",
    "train_label_c=class_label_[:-600]\n",
    "\n",
    "valid_id=class_id_[1400:1750]\t#350 valid\n",
    "valid_label_c=class_label_[1400:1750]\n",
    "test_id=class_id_[1750:]\t#250 test\n",
    "test_label_c=class_label_[1750:]"
   ]
  },
  {
   "cell_type": "code",
   "execution_count": 6,
   "metadata": {},
   "outputs": [],
   "source": [
    "#Data Generator\n",
    "\n",
    "def generate_data(directory, augmentation, shuffle, batch_size, file_list, label_1):\n",
    "\ti=0\n",
    "\tshuff_file_list=file_list\n",
    "\tshuff_label_1=label_1\n",
    "\n",
    "\twhile True:\n",
    "\t\timage_batch=[]\n",
    "\t\tlabel_1_batch=[]\n",
    "\t\tfor b in range(batch_size):\n",
    "\t\t\tif i==(len(file_list)):\n",
    "\t\t\t\ti=0\n",
    "\t\t\t\tif shuffle==True:\n",
    "\t\t\t\t\tnew_file_list=[]\n",
    "\t\t\t\t\tnew_label_1=[]\n",
    "\t\t\t\t\tindexes=list(range(len(shuff_file_list)))\n",
    "\t\t\t\t\trandom.shuffle(indexes)\n",
    "\t\t\t\t\tfor index in indexes:\n",
    "\t\t\t\t\t\tnew_file_list.append(shuff_file_list[index])\n",
    "\t\t\t\t\t\tnew_label_1.append(shuff_label_1[index])\n",
    "\t\t\t\t\tshuff_file_list=new_file_list\n",
    "\t\t\t\t\tshuff_label_1=new_label_1\n",
    "\t\n",
    "\t\t\timg=image.load_img(directory+shuff_file_list[i]+'.jpg', grayscale=False, target_size=(384,384))\n",
    "\t\t\timg = image.img_to_array(img)\n",
    "\t\t\tif augmentation==True:\n",
    "\t\t\t\tdatagen = ImageDataGenerator(\n",
    "\t\t\t\t\t\t    rotation_range=360,\n",
    "\t\t\t\t\t\t    width_shift_range=0.1,\n",
    "\t\t\t\t\t\t    height_shift_range=0.1,\n",
    "\t\t\t\t\t\t    shear_range=0.2,\n",
    "\t\t\t\t\t\t    zoom_range=0.2,\n",
    "\t\t\t\t\t\t    channel_shift_range=20,\n",
    "\t\t\t\t\t\t    horizontal_flip=True,\n",
    "\t\t\t\t\t\t    vertical_flip=True,\n",
    "\t\t\t\t\t\t    fill_mode = \"nearest\")\n",
    "\t\t\t\timg=datagen.random_transform(img)\n",
    "\t\t\t\timg=img/255.0\n",
    "\n",
    "\t\t\tif augmentation==False:\n",
    "\t\t\t\timg=img/255.0\n",
    "\t\t\timage_batch.append(img)\n",
    "\t\t\tlabel_1_batch.append(shuff_label_1[i])\t\t\n",
    "\t\t\ti=i+1\n",
    "\t\t\n",
    "\t\tyield(np.asarray(image_batch), np.asarray(label_1_batch))"
   ]
  },
  {
   "cell_type": "code",
   "execution_count": 7,
   "metadata": {},
   "outputs": [],
   "source": [
    "direc = cf.DATA_CONFIG['data_folder'] + 'image_data/'\n",
    "\n",
    "bs = 10\n",
    "train=generate_data(directory=direc, augmentation=True, shuffle=True, batch_size=bs, file_list=train_id, label_1=train_label_c)\n",
    "\n",
    "validation=generate_data(directory=direc, augmentation=False, shuffle=True, batch_size=bs, file_list=valid_id, label_1=valid_label_c)\n"
   ]
  },
  {
   "cell_type": "code",
   "execution_count": 8,
   "metadata": {},
   "outputs": [
    {
     "name": "stdout",
     "output_type": "stream",
     "text": [
      "_________________________________________________________________\n",
      "Layer (type)                 Output Shape              Param #   \n",
      "=================================================================\n",
      "input_1 (InputLayer)         (None, 384, 384, 3)       0         \n",
      "_________________________________________________________________\n",
      "block1_conv1 (Conv2D)        (None, 384, 384, 64)      1792      \n",
      "_________________________________________________________________\n",
      "block1_conv2 (Conv2D)        (None, 384, 384, 64)      36928     \n",
      "_________________________________________________________________\n",
      "block1_pool (MaxPooling2D)   (None, 192, 192, 64)      0         \n",
      "_________________________________________________________________\n",
      "block2_conv1 (Conv2D)        (None, 192, 192, 128)     73856     \n",
      "_________________________________________________________________\n",
      "block2_conv2 (Conv2D)        (None, 192, 192, 128)     147584    \n",
      "_________________________________________________________________\n",
      "block2_pool (MaxPooling2D)   (None, 96, 96, 128)       0         \n",
      "_________________________________________________________________\n",
      "block3_conv1 (Conv2D)        (None, 96, 96, 256)       295168    \n",
      "_________________________________________________________________\n",
      "block3_conv2 (Conv2D)        (None, 96, 96, 256)       590080    \n",
      "_________________________________________________________________\n",
      "block3_conv3 (Conv2D)        (None, 96, 96, 256)       590080    \n",
      "_________________________________________________________________\n",
      "block3_pool (MaxPooling2D)   (None, 48, 48, 256)       0         \n",
      "_________________________________________________________________\n",
      "block4_conv1 (Conv2D)        (None, 48, 48, 512)       1180160   \n",
      "_________________________________________________________________\n",
      "block4_conv2 (Conv2D)        (None, 48, 48, 512)       2359808   \n",
      "_________________________________________________________________\n",
      "block4_conv3 (Conv2D)        (None, 48, 48, 512)       2359808   \n",
      "_________________________________________________________________\n",
      "block4_pool (MaxPooling2D)   (None, 24, 24, 512)       0         \n",
      "_________________________________________________________________\n",
      "block5_conv1 (Conv2D)        (None, 24, 24, 512)       2359808   \n",
      "_________________________________________________________________\n",
      "block5_conv2 (Conv2D)        (None, 24, 24, 512)       2359808   \n",
      "_________________________________________________________________\n",
      "block5_conv3 (Conv2D)        (None, 24, 24, 512)       2359808   \n",
      "_________________________________________________________________\n",
      "block5_pool (MaxPooling2D)   (None, 12, 12, 512)       0         \n",
      "_________________________________________________________________\n",
      "global_average_pooling2d_1 ( (None, 512)               0         \n",
      "_________________________________________________________________\n",
      "dense_1 (Dense)              (None, 100)               51300     \n",
      "_________________________________________________________________\n",
      "dense_2 (Dense)              (None, 100)               10100     \n",
      "_________________________________________________________________\n",
      "dense_3 (Dense)              (None, 1)                 101       \n",
      "=================================================================\n",
      "Total params: 14,776,189.0\n",
      "Trainable params: 7,140,925.0\n",
      "Non-trainable params: 7,635,264.0\n",
      "_________________________________________________________________\n"
     ]
    }
   ],
   "source": [
    "#Build the model\n",
    "img_height, img_width, img_channel=384,384,3\n",
    "input_tensor     = Input(shape=(img_height, img_width, img_channel))\n",
    "vgg_new_model = keras.applications.vgg16.VGG16(include_top=False, weights='imagenet', input_tensor=input_tensor, input_shape=(img_height, img_width, img_channel), pooling='avg')\n",
    "for layer in vgg_new_model.layers[:-5]:\n",
    "    layer.trainable = False\n",
    "result=Dense(100, activation='relu')(vgg_new_model.output)\n",
    "result=Dense(100, activation='relu')(result)\n",
    "result=Dense(1, activation='sigmoid', kernel_initializer='glorot_uniform')(result)\n",
    "model= Model(inputs=vgg_new_model.input, outputs=result)\n",
    "\n",
    "#Check the model\n",
    "model.summary()\n"
   ]
  },
  {
   "cell_type": "code",
   "execution_count": 9,
   "metadata": {},
   "outputs": [],
   "source": [
    "opt=keras.optimizers.SGD(lr=0.001, momentum=0.9)\n",
    "\n",
    "model.compile(\n",
    "    loss='binary_crossentropy',\n",
    "    optimizer=opt,\n",
    "    metrics=['accuracy']\n",
    ")\n"
   ]
  },
  {
   "cell_type": "code",
   "execution_count": null,
   "metadata": {},
   "outputs": [
    {
     "name": "stdout",
     "output_type": "stream",
     "text": [
      "Epoch 1/200\n",
      "140/140 [==============================] - 29s - loss: 1.1317 - acc: 0.5957 - val_loss: 0.9777 - val_acc: 0.2400\n",
      "Epoch 2/200\n",
      "140/140 [==============================] - 30s - loss: 1.1638 - acc: 0.6079 - val_loss: 0.6402 - val_acc: 0.7900\n",
      "Epoch 3/200\n",
      "140/140 [==============================] - 30s - loss: 1.1680 - acc: 0.6064 - val_loss: 0.8879 - val_acc: 0.4200\n",
      "Epoch 4/200\n",
      " 27/140 [====>.........................] - ETA: 22s - loss: 1.1281 - acc: 0.6556"
     ]
    }
   ],
   "source": [
    "tfdir = cf.DATA_CONFIG['project_folder'] + 'logs/classification/'\n",
    "bs=10\n",
    "tensorboard = TensorBoard(log_dir=tfdir, write_graph=True)\n",
    "callbacks = [tensorboard]\n",
    "\n",
    "history=model.fit_generator(train,steps_per_epoch=(len(train_id)//bs),epochs=200,validation_steps=10,validation_data=validation,class_weight={0:1.,1:5.},\n",
    "callbacks=callbacks)\n",
    "\n",
    "\n"
   ]
  },
  {
   "cell_type": "code",
   "execution_count": 14,
   "metadata": {},
   "outputs": [
    {
     "name": "stdout",
     "output_type": "stream",
     "text": [
      "Saved model to disk\n"
     ]
    }
   ],
   "source": [
    "#save model to JSON\n",
    "model_json = model.to_json()\n",
    "with open(cf.DATA_CONFIG['project_folder'] + \"weights/classification.json\", \"w\") as json_file:\n",
    "    json_file.write(model_json)\n",
    "#serialize weights to HDF5\n",
    "model.save_weights(cf.DATA_CONFIG['project_folder'] + \"weights/classification.h5\")\n",
    "print(\"Saved model to disk\")"
   ]
  },
  {
   "cell_type": "code",
   "execution_count": 15,
   "metadata": {},
   "outputs": [],
   "source": [
    "test=generate_data(directory=cf.DATA_CONFIG['data_folder'] + 'image_data/', augmentation=False, shuffle=False, batch_size=10, file_list=test_id, label_1=test_label_c)"
   ]
  },
  {
   "cell_type": "code",
   "execution_count": 16,
   "metadata": {},
   "outputs": [
    {
     "name": "stdout",
     "output_type": "stream",
     "text": [
      "Loaded model from disk\n"
     ]
    }
   ],
   "source": [
    "#Load model\n",
    "json_file = open(cf.DATA_CONFIG['project_folder'] + 'weights/classification.json', 'r')\n",
    "model_json = json_file.read()\n",
    "json_file.close()\n",
    "load_model = model_from_json(model_json)\n",
    "#Load weights into new model\n",
    "load_model.load_weights(cf.DATA_CONFIG['project_folder'] + \"weights/classification.h5\")\n",
    "print(\"Loaded model from disk\")"
   ]
  },
  {
   "cell_type": "code",
   "execution_count": 19,
   "metadata": {},
   "outputs": [
    {
     "data": {
      "image/png": "[encoded data removed]",
      "text/plain": [
       "<Figure size 432x288 with 2 Axes>"
      ]
     },
     "metadata": {},
     "output_type": "display_data"
    },
    {
     "data": {
      "image/png": "[encoded data removed]",
      "text/plain": [
       "<Figure size 432x288 with 1 Axes>"
      ]
     },
     "metadata": {},
     "output_type": "display_data"
    }
   ],
   "source": [
    "#Make prediction for class\n",
    "y_pred = load_model.predict_generator(test, steps=25)\n",
    "y_pred_c=np.array(y_pred)\n",
    "y_true=test_label_c\n",
    "\n"
   ]
  },
  {
   "cell_type": "code",
   "execution_count": 20,
   "metadata": {},
   "outputs": [],
   "source": [
    "#Confusion matrix\n",
    "classes={'nevus': 0, 'melanoma': 1}\n",
    "thre=0.5\n",
    "# obtain class predictions from probabilities\n",
    "y_predi=(y_pred_c>=thre)*1\n",
    "# obtain (unnormalized) confusion matrix\n",
    "cm = confusion_matrix(y_true, y_predi)\n",
    "# normalize confusion matrix\n",
    "cm = cm.astype('float') / cm.sum(axis=1)[:, np.newaxis]\n",
    "\n",
    "\n"
   ]
  },
  {
   "cell_type": "code",
   "execution_count": 21,
   "metadata": {},
   "outputs": [
    {
     "data": {
      "image/png": "[encoded data removed]",
      "text/plain": [
       "<Figure size 432x288 with 2 Axes>"
      ]
     },
     "metadata": {},
     "output_type": "display_data"
    }
   ],
   "source": [
    "# Plotting the Confusion matrix\n",
    "\n",
    "plt.figure()\n",
    "plt.imshow(cm, interpolation='nearest', cmap=plt.cm.Blues)\n",
    "plt.title('Confusion matrix')\n",
    "plt.colorbar()\n",
    "tick_marks = np.arange(len(classes))\n",
    "plt.xticks(tick_marks, classes, rotation=45)\n",
    "plt.yticks(tick_marks, classes)\n",
    "thresh = cm.max() / 2.\n",
    "for i, j in itertools.product(range(cm.shape[0]), range(cm.shape[1])):\n",
    "\tplt.text(j, i, format(cm[i, j], '.2f'),\n",
    "                 horizontalalignment=\"center\",\n",
    "                 color=\"white\" if cm[i, j] > thresh else \"black\")\n",
    "plt.tight_layout()\n",
    "plt.ylabel('True label')\n",
    "plt.xlabel('Predicted label')\n",
    "\n",
    "#Saving the above plot to the directory specified\n",
    "plt.savefig(cf.DATA_CONFIG['project_folder'] + 'reports/Classification_Confusion_Matrix.png')\n"
   ]
  },
  {
   "cell_type": "code",
   "execution_count": 22,
   "metadata": {},
   "outputs": [
    {
     "data": {
      "image/png": "[encoded data removed]",
      "text/plain": [
       "<Figure size 432x288 with 1 Axes>"
      ]
     },
     "metadata": {},
     "output_type": "display_data"
    }
   ],
   "source": [
    "#Plotting ROC curve and score\n",
    "fpr = dict()\n",
    "tpr = dict()\n",
    "roc_auc = dict()\n",
    "fpr, tpr, _ = roc_curve(y_true, y_pred)\n",
    "roc_auc = auc(fpr, tpr)\n",
    "plt.plot(fpr, tpr, color='aqua', lw=2,\n",
    "label='ROC curve  (area = {f:.2f})'.format( f=roc_auc))\n",
    "plt.xlim([0.0, 1.0])\n",
    "plt.ylim([0.0, 1.05])\n",
    "plt.xlabel('False Positive Rate')\n",
    "plt.ylabel('True Positive Rate')\n",
    "plt.title('Receiver operating characteristic')\n",
    "plt.legend(loc=\"lower right\")\n",
    "plt.savefig(cf.DATA_CONFIG['project_folder'] + 'reports/Classification_ROC_Plot.png')"
   ]
  },
  {
   "cell_type": "code",
   "execution_count": 25,
   "metadata": {},
   "outputs": [],
   "source": [
    "# End of the Interactive notebook"
   ]
  }
 ],
 "metadata": {
  "kernelspec": {
   "display_name": "Python 3",
   "language": "python",
   "name": "python3"
  },
  "language_info": {
   "codemirror_mode": {
    "name": "ipython",
    "version": 3
   },
   "file_extension": ".py",
   "mimetype": "text/x-python",
   "name": "python",
   "nbconvert_exporter": "python",
   "pygments_lexer": "ipython3",
   "version": "3.6.4"
  }
 },
 "nbformat": 4,
 "nbformat_minor": 2
}
